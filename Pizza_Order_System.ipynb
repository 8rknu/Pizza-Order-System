{
  "cells": [
    {
      "cell_type": "markdown",
      "metadata": {
        "id": "view-in-github",
        "colab_type": "text"
      },
      "source": [
        "<a href=\"https://colab.research.google.com/github/8rknu/Pizza-Order-System/blob/main/Pizza_Order_System.ipynb\" target=\"_parent\"><img src=\"https://colab.research.google.com/assets/colab-badge.svg\" alt=\"Open In Colab\"/></a>"
      ]
    },
    {
      "cell_type": "code",
      "execution_count": null,
      "metadata": {
        "id": "f4mioKFDLSaj"
      },
      "outputs": [],
      "source": [
        "# kutuphaneler eklendi\n",
        "import datetime\n",
        "import csv\n",
        "import pandas"
      ]
    },
    {
      "cell_type": "code",
      "execution_count": null,
      "metadata": {
        "id": "A9bPz0IFLcg8"
      },
      "outputs": [],
      "source": [
        "# Alinan siparislerin kaydedilmesi icin Order_Database dosyasi olusturuldu\n",
        "# Menu dosyasi olusturuldu ve icine menu eklendi\n",
        "with open (\"Orders_Database.csv\",\"w\") as file_csv:\n",
        "  writer = csv.writer(file_csv)\n",
        "  writer.writerow([\"Time\", \"Description\", \"Cost\", \"Name\", \"Identity Number\", \"Credit Card Number\",\"Credit Card Password\"])\n",
        "file = open(\"Menu.txt\",\"w\")\n",
        "file.write('* Lütfen Bir Pizza Tabanı Seçiniz:\\n1: Klasik\\n2: Margarita\\n3: TürkPizza\\n4: Sade Pizza\\n* ve seçeceğiniz sos:\\n11: Zeytin\\n12: Mantarlar\\n13: Keçi Peyniri\\n14: Et\\n15: Soğan\\n16: Mısır\\n(Cikmak icin 0 tuslayiniz)\\n* Teşekkür ederiz!')\n",
        "file.close()"
      ]
    },
    {
      "cell_type": "code",
      "execution_count": null,
      "metadata": {
        "id": "plPWVJSRNqe3"
      },
      "outputs": [],
      "source": [
        "# Pizza ust sinifi olusturuldu ve kalitim yolula pizza tabanlari olusturuldu\n",
        "class Pizza:\n",
        "  def get_description(self):\n",
        "    pass\n",
        "  def get_cost(self):\n",
        "    pass\n",
        "\n",
        "class Klasik(Pizza):\n",
        "  def get_description(self):\n",
        "    return \"Klasik Pizza\"\n",
        "  def get_cost(self):\n",
        "    return 15.00\n",
        "\n",
        "class Margarita(Pizza):\n",
        "  def get_description(self):\n",
        "    return \"Margarita Pizza\"\n",
        "  def get_cost(self):\n",
        "    return 15.00\n",
        "\n",
        "class TurkPizza(Pizza):\n",
        "  def get_description(self):\n",
        "    return \"Turk Pizza\"\n",
        "  def get_cost(self):\n",
        "    return 20.00\n",
        "\n",
        "class SadePizza(Pizza):\n",
        "  def get_description(self):\n",
        "    return \"Sade Pizza\"\n",
        "  def get_cost(self):\n",
        "    return 10.00"
      ]
    },
    {
      "cell_type": "code",
      "execution_count": null,
      "metadata": {
        "id": "Qu3htLlvPWhz"
      },
      "outputs": [],
      "source": [
        "# Pizza tabani secildikten sonra uzerine eklenebilecek ekstra malzemeler olusturuldu\n",
        "class Decorator(Pizza):\n",
        "  def __init__(self,pizza):\n",
        "    self.pizza = pizza\n",
        "  def get_description(self):\n",
        "    return self.pizza.get_description()\n",
        "  def get_cost(self):\n",
        "    return self.pizza.get_cost()\n",
        "\n",
        "class Zeytin(Decorator):\n",
        "  def __init__(self, pizza):\n",
        "    super().__init__(pizza)\n",
        "    self.description = \"Zeytin\"\n",
        "    self.cost = 1.50\n",
        "  def get_description(self):\n",
        "    return self.pizza.get_description() + \" \" + self.description\n",
        "  def get_cost(self):\n",
        "    return self.pizza.get_cost() + self.cost\n",
        "\n",
        "class Mantar(Decorator):\n",
        "  def __init__(self, pizza):\n",
        "    super().__init__(pizza)\n",
        "    self.description = \"Mantar\"\n",
        "    self.cost = 2.00\n",
        "  def get_description (self):\n",
        "    return self.pizza.get_description() + \" \" + self.description\n",
        "  def get_cost(self):\n",
        "    return self.pizza.get_cost()  + self.cost\n",
        "\n",
        "class KeciPeyniri(Decorator):\n",
        "  def __init__(self, pizza):\n",
        "    super().__init__(pizza)\n",
        "    self.description = \"Keci Perniri\"\n",
        "    self.cost = 1.00\n",
        "  def get_description(self):\n",
        "    return self.pizza.get_description() + \" \" + self.description\n",
        "  def get_cost(self):\n",
        "    return self.pizza.get_cost() + self.cost\n",
        "\n",
        "class Et(Decorator):\n",
        "  def __init__(self, pizza):\n",
        "    super().__init__(pizza)\n",
        "    self.description = \"Et\"\n",
        "    self.cost = 5.00\n",
        "  def get_description(self):\n",
        "    return self.pizza.get_description() + \" \" + self.description\n",
        "  def get_cost(self):\n",
        "    return self.pizza.get_cost() + self.cost\n",
        "\n",
        "class Sogan(Decorator):\n",
        "  def __init__(self, pizza):\n",
        "    super().__init__(pizza)\n",
        "    self.description = \"Sogan\"\n",
        "    self.cost = 2.50\n",
        "  def get_description(self):\n",
        "    return self.pizza.get_description() + \" \" + self.description\n",
        "  def get_cost(self):\n",
        "    return self.pizza.get_cost() + self.cost\n",
        "\n",
        "class Misir(Decorator):\n",
        "  def __init__(self, pizza):\n",
        "    super().__init__(pizza)\n",
        "    self.description = \"Misir\"\n",
        "    self.cost = 3.00\n",
        "  def get_description(self):\n",
        "    return self.pizza.get_description() + \" \" + self.description\n",
        "  def get_cost(self):\n",
        "    return self.pizza.get_cost() + self.cost\n"
      ]
    },
    {
      "cell_type": "code",
      "execution_count": null,
      "metadata": {
        "colab": {
          "base_uri": "https://localhost:8080/"
        },
        "id": "ahYohKGHGkxw",
        "outputId": "04cf0f7f-77d4-4900-9bc9-b19640be5605"
      },
      "outputs": [
        {
          "output_type": "stream",
          "name": "stdout",
          "text": [
            "* Lütfen Bir Pizza Tabanı Seçiniz:\n",
            "1: Klasik\n",
            "2: Margarita\n",
            "3: TürkPizza\n",
            "4: Sade Pizza\n",
            "* ve seçeceğiniz sos:\n",
            "11: Zeytin\n",
            "12: Mantarlar\n",
            "13: Keçi Peyniri\n",
            "14: Et\n",
            "15: Soğan\n",
            "16: Mısır\n",
            "(Cikmak icin 0 tuslayiniz)\n",
            "* Teşekkür ederiz!\n"
          ]
        }
      ],
      "source": [
        "# Kenu dosyasi kullanicinın menuyu gormesi icin okundu\n",
        "file = open('Menu.txt', 'r')\n",
        "print(file.read())  "
      ]
    },
    {
      "cell_type": "code",
      "execution_count": null,
      "metadata": {
        "colab": {
          "base_uri": "https://localhost:8080/"
        },
        "id": "LRv-DqbjKZAg",
        "outputId": "1f0c0d8d-8abf-40bd-f6ba-b3355827c167"
      },
      "outputs": [
        {
          "output_type": "stream",
          "name": "stdout",
          "text": [
            "Bir pizza tabani seciniz : 1\n",
            "Sos seciniz : 11\n",
            "Sectiginiz pizza : Klasik Pizza Zeytin\n",
            "Odenecek tutar : 16.5 TL\n",
            "Sos seciniz : 12\n",
            "Sectiginiz pizza : Klasik Pizza Zeytin Mantar\n",
            "Odenecek tutar : 18.5 TL\n",
            "Sos seciniz : 13\n",
            "Sectiginiz pizza : Klasik Pizza Zeytin Mantar Keci Perniri\n",
            "Odenecek tutar : 19.5 TL\n"
          ]
        }
      ],
      "source": [
        "# Pizza tabani ve eklenecek soslarin secilmesi\n",
        "pizza_secimi = int(input(\"Bir pizza tabani seciniz : \"))\n",
        "pizza = None\n",
        "while True:\n",
        "  while pizza_secimi != 0:\n",
        "\n",
        "    if pizza_secimi == 1:\n",
        "      pizza = Klasik()\n",
        "      break\n",
        "  \n",
        "    elif pizza_secimi == 2:\n",
        "      pizza = Margarita()\n",
        "      break\n",
        "  \n",
        "    elif pizza_secimi == 3:\n",
        "      pizza = TurkPizza()\n",
        "      break\n",
        "  \n",
        "    elif pizza_secimi == 4:\n",
        "      pizza = SadePizza()\n",
        "      break\n",
        "  \n",
        "    else:\n",
        "      print(\"Hatali Tuslama Yaptiniz Tekrar Deneyiniz!!!\")\n",
        "      pizza_secimi = int(input(\"Bir pizza tabani seciniz : \"))\n",
        "    \n",
        "  if pizza_secimi != 0:\n",
        "    sos_secimi = int(input(\"Sos seciniz : \"))\n",
        "    while sos_secimi != 0:\n",
        "      if sos_secimi == 11:\n",
        "        pizza = Zeytin(pizza)          \n",
        "\n",
        "      elif sos_secimi == 12:\n",
        "        pizza = Mantar(pizza)          \n",
        "      \n",
        "      elif sos_secimi == 13:\n",
        "        pizza = KeciPeyniri(pizza)          \n",
        "      \n",
        "      elif sos_secimi == 14:\n",
        "        pizza = Et(pizza)          \n",
        "      \n",
        "      elif sos_secimi == 15:\n",
        "        pizza = Sogan(pizza)          \n",
        "      \n",
        "      elif sos_secimi == 16:\n",
        "        pizza = Misir(pizza)          \n",
        "\n",
        "      elif sos_secimi == 0:\n",
        "        break\n",
        "      else:\n",
        "        print(\"Gecersiz Secim yaptiniz\")\n",
        "\n",
        "      print(f\"Sectiginiz pizza : {pizza.get_description()}\")\n",
        "      print(f\"Odenecek tutar : {pizza.get_cost()} TL\")\n",
        "      sos_secimi = int(input(\"Sos seciniz : \"))\n",
        "    print(\"Secim sona erdi!!\")\n",
        "\n",
        "    print(f\"Sectiginiz pizza : {pizza.get_description()}\")\n",
        "    print(f\"Odenecek tutar : {pizza.get_cost()} TL\")\n",
        "\n",
        "\n",
        "    # Kimlik bilgilerinin alinmasi\n",
        "\n",
        "    ad = input(\"Adiniz : \")\n",
        "    tc_kimlik = input(\"TC kimlik numaraniz : \")\n",
        "    kart_numarasi = input(\"Kredi karti numaranizi giriniz : \")\n",
        "    kart_sifresi = input(\"Kredi karti sifrenizi giriniz : \") \n",
        "\n",
        "    with open(\"Orders_Database.csv\", 'a') as file_csv:\n",
        "        writer = csv.writer(file_csv)\n",
        "        writer.writerow([datetime.datetime.now(), pizza.get_description(), pizza.get_cost(), ad, tc_kimlik, kart_numarasi,kart_sifresi])   \n",
        "\n",
        "    pizza_secimi = int(input(\"Bir pizza tabani seciniz : \"))\n",
        "\n"
      ]
    },
    {
      "cell_type": "code",
      "source": [],
      "metadata": {
        "id": "oz6tHhvDM7q4"
      },
      "execution_count": null,
      "outputs": []
    }
  ],
  "metadata": {
    "colab": {
      "provenance": [],
      "include_colab_link": true
    },
    "kernelspec": {
      "display_name": "Python 3",
      "name": "python3"
    },
    "language_info": {
      "name": "python"
    }
  },
  "nbformat": 4,
  "nbformat_minor": 0
}